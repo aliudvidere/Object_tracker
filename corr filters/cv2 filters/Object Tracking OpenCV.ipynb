{
 "cells": [
  {
   "cell_type": "code",
   "execution_count": 1,
   "id": "96370373",
   "metadata": {},
   "outputs": [],
   "source": [
    "import cv2\n",
    "import numpy as np\n",
    "import matplotlib.pyplot as plt\n",
    "import sys\n",
    "import random as r"
   ]
  },
  {
   "cell_type": "code",
   "execution_count": 2,
   "id": "d8c357c0",
   "metadata": {},
   "outputs": [
    {
     "name": "stdout",
     "output_type": "stream",
     "text": [
      "4.5.5\n"
     ]
    }
   ],
   "source": [
    "# import cv2\n",
    "print(cv2.__version__)\n",
    "# Не забывай перезагружать Kernel после переустановил библиотек, т.к. либа в локальной памяти храниться единожды подгруженная"
   ]
  },
  {
   "cell_type": "code",
   "execution_count": 3,
   "id": "f41f4a14",
   "metadata": {},
   "outputs": [],
   "source": [
    "## Видеопоток с вебки\n",
    "# capture = cv2.VideoCapture(0)\n",
    "# while True:\n",
    "#     rat, frame = capture.read()\n",
    "#     cv2.imshow(\"camera\", frame)\n",
    "#     if cv2.waitKey(20) == 27: # Клавиша Esc\n",
    "#         break\n",
    "# capture.release()\n",
    "# cv2.destroyAllWindows()"
   ]
  },
  {
   "cell_type": "code",
   "execution_count": 4,
   "id": "8ffe573f",
   "metadata": {},
   "outputs": [
    {
     "name": "stdout",
     "output_type": "stream",
     "text": [
      "<legacy_TrackerCSRT 0x7fb8cb937070>\n"
     ]
    }
   ],
   "source": [
    "tracker_types = ['BOOSTING', 'MIL', 'KCF', 'TLD', 'MEDIANFLOW', 'MOSSE', 'CSRT']\n",
    "tracker_type = tracker_types[6]\n",
    "\n",
    "if tracker_type == 'BOOSTING':\n",
    "    tracker = cv2.legacy.TrackerBoosting_create()\n",
    "elif tracker_type == 'MIL':\n",
    "    tracker = cv2.legacy.TrackerMIL_create()\n",
    "elif tracker_type == 'KCF':\n",
    "    tracker = cv2.legacy.TrackerKCF_create()\n",
    "elif tracker_type == 'TLD':\n",
    "    tracker = cv2.legacy.TrackerTLD_create()\n",
    "elif tracker_type == 'MEDIANFLOW':\n",
    "    tracker = cv2.legacy.TrackerMedianFlow_create()\n",
    "elif tracker_type == 'MOSSE':\n",
    "    tracker = cv2.legacy.TrackerMOSSE_create()\n",
    "elif tracker_type == 'CSRT':\n",
    "    tracker = cv2.legacy.TrackerCSRT_create()\n",
    "\n",
    "# Change tracker_type index to check if objects are created:\n",
    "print(tracker)"
   ]
  },
  {
   "cell_type": "code",
   "execution_count": 5,
   "id": "856fa879",
   "metadata": {},
   "outputs": [
    {
     "name": "stdout",
     "output_type": "stream",
     "text": [
      "[INFO] video loaded and frame capture started\n"
     ]
    }
   ],
   "source": [
    "video = cv2.VideoCapture('/Users/vladimirberman/Downloads/Telegram Desktop/Alkop.mp4')\n",
    "# load video\n",
    "if not video.isOpened():\n",
    "    print('[ERROR] video file not loaded')\n",
    "    sys.exit()\n",
    "# capture first frame\n",
    "ok, frame = video.read()\n",
    "if not ok:\n",
    "    print('[ERROR] no frame captured')\n",
    "    sys.exit()\n",
    "print('[INFO] video loaded and frame capture started')"
   ]
  },
  {
   "cell_type": "code",
   "execution_count": 6,
   "id": "797dd6b5",
   "metadata": {},
   "outputs": [
    {
     "name": "stdout",
     "output_type": "stream",
     "text": [
      "Select a ROI and then press SPACE or ENTER button!\n",
      "Cancel the selection process by pressing c button!\n",
      "[INFO] select ROI and press ENTER or SPACE\n",
      "[INFO] cancel selection by pressing C\n",
      "(722, 345, 36, 82)\n"
     ]
    }
   ],
   "source": [
    "bbox = cv2.selectROI(frame)\n",
    "print('[INFO] select ROI and press ENTER or SPACE')\n",
    "print('[INFO] cancel selection by pressing C')\n",
    "print(bbox)\n",
    "cv2.destroyAllWindows()\n",
    "cv2.waitKey(1)"
   ]
  },
  {
   "cell_type": "code",
   "execution_count": 7,
   "id": "ba77f772",
   "metadata": {},
   "outputs": [
    {
     "name": "stdout",
     "output_type": "stream",
     "text": [
      "[INFO] tracker was initialized on ROI\n"
     ]
    }
   ],
   "source": [
    "ok = tracker.init(frame, bbox)\n",
    "if not ok:\n",
    "    print('[ERROR] tracker not initialized')\n",
    "    sys.exit()\n",
    "print('[INFO] tracker was initialized on ROI')\n",
    "# random generate a colour for bounding box\n",
    "colours = (r.randint(0, 255), r.randint(0, 255), r.randint(0, 255))\n",
    "# loop through all frames of video file\n",
    "while True:\n",
    "    ok, frame = video.read()\n",
    "    if not ok:\n",
    "        print('[INFO] end of video file reached')\n",
    "        break\n",
    "    # update position of ROI based on tracker prediction\n",
    "    ok, bbox = tracker.update(frame)\n",
    "    if ok == True:\n",
    "        (x, y, w, h) = [int(v) for v in bbox]\n",
    "        # use predicted bounding box coordinates to draw a rectangle\n",
    "        cv2.rectangle(frame, (x, y), (x+w, y+h), colours, 3)\n",
    "        cv2.putText(frame, str(tracker_type), (10, 30), cv2.QT_FONT_NORMAL, 1, (255, 255, 255))\n",
    "    else:\n",
    "        # if prediction failed and no bounding box coordinates are available\n",
    "        cv2.putText(frame, 'No Track', (10, 30), cv2.QT_FONT_NORMAL, 1, (0, 0, 255))\n",
    "    # display object track\n",
    "    cv2.imshow('Single Track', frame)\n",
    "    # press 'q' to break loop and close window\n",
    "    if cv2.waitKey(15) & 0xFF == ord('q'):\n",
    "        break\n",
    "cv2.destroyAllWindows()\n",
    "for i in range(2):\n",
    "    cv2.waitKey(1)"
   ]
  },
  {
   "cell_type": "code",
   "execution_count": 9,
   "id": "b32d7460",
   "metadata": {},
   "outputs": [],
   "source": [
    "# cap = cv2.VideoCapture('C:\\\\Users\\\\werng\\\\Desktop\\\\Alkop.mp4')\n",
    "# while True:\n",
    "#     ret, frame = cap.read()\n",
    "#     cv2.imshow('video feed', frame)\n",
    "#     if cv2.waitKey(25) & 0xFF == ord('q'):\n",
    "#         break\n",
    "# cap.release()\n",
    "# cv2.destroyAllWindows()"
   ]
  },
  {
   "cell_type": "code",
   "execution_count": null,
   "id": "899c1ddf",
   "metadata": {},
   "outputs": [],
   "source": []
  },
  {
   "cell_type": "code",
   "execution_count": null,
   "id": "f07dcd9c",
   "metadata": {},
   "outputs": [],
   "source": []
  },
  {
   "cell_type": "code",
   "execution_count": 1,
   "id": "7ba6d0ba",
   "metadata": {},
   "outputs": [],
   "source": [
    "x = 0\n",
    "while x < 10:\n",
    "    x = x + 1\n"
   ]
  },
  {
   "cell_type": "code",
   "execution_count": 4,
   "id": "c75f2404",
   "metadata": {},
   "outputs": [
    {
     "data": {
      "text/plain": [
       "3"
      ]
     },
     "execution_count": 4,
     "metadata": {},
     "output_type": "execute_result"
    }
   ],
   "source": [
    "x"
   ]
  },
  {
   "cell_type": "code",
   "execution_count": 3,
   "id": "80f746ba",
   "metadata": {},
   "outputs": [],
   "source": [
    "\n",
    "\n",
    "\n",
    "x = 0\n",
    "for i in range(3):\n",
    "    x = x + i"
   ]
  },
  {
   "cell_type": "code",
   "execution_count": 5,
   "id": "bdfbfe0b",
   "metadata": {},
   "outputs": [],
   "source": [
    "import pandas as pd"
   ]
  },
  {
   "cell_type": "code",
   "execution_count": 6,
   "id": "a30071fe",
   "metadata": {},
   "outputs": [],
   "source": [
    "import numpy as np"
   ]
  },
  {
   "cell_type": "code",
   "execution_count": 7,
   "id": "4b35f7c1",
   "metadata": {},
   "outputs": [
    {
     "data": {
      "text/plain": [
       "3.5118845842842465"
      ]
     },
     "execution_count": 7,
     "metadata": {},
     "output_type": "execute_result"
    }
   ],
   "source": [
    "np.std([4, 2, 2, 8, 9, 11])"
   ]
  },
  {
   "cell_type": "code",
   "execution_count": null,
   "id": "965302b7",
   "metadata": {},
   "outputs": [],
   "source": []
  }
 ],
 "metadata": {
  "kernelspec": {
   "display_name": "Python 3 (ipykernel)",
   "language": "python",
   "name": "python3"
  },
  "language_info": {
   "codemirror_mode": {
    "name": "ipython",
    "version": 3
   },
   "file_extension": ".py",
   "mimetype": "text/x-python",
   "name": "python",
   "nbconvert_exporter": "python",
   "pygments_lexer": "ipython3",
   "version": "3.10.9"
  }
 },
 "nbformat": 4,
 "nbformat_minor": 5
}
